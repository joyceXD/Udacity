{
 "cells": [
  {
   "cell_type": "code",
   "execution_count": null,
   "metadata": {
    "collapsed": true
   },
   "outputs": [],
   "source": [
    "########################################\n",
    "#                   1                  #\n",
    "########################################\n",
    "\n",
    "# Load the boston dataset included with sklearn\n",
    "\n",
    "##### Start solution code #####\n",
    "from sklearn import datasets\n",
    "dataset = datasets.load_boston()\n",
    "##### End solution code #####"
   ]
  },
  {
   "cell_type": "code",
   "execution_count": null,
   "metadata": {
    "collapsed": true
   },
   "outputs": [],
   "source": [
    "########################################\n",
    "#                   2                  #\n",
    "########################################\n",
    "\n",
    "# Run this cell to see what it does.\n",
    "# Then modify the code to print both the description and the data point.\n",
    "\n",
    "dataset.DESCR\n",
    "dataset.data[0]\n",
    "\n",
    "##### Start solution code #####\n",
    "print(dataset.DESCR)\n",
    "print(dataset.data[0])\n",
    "##### end solution code"
   ]
  },
  {
   "cell_type": "code",
   "execution_count": null,
   "metadata": {
    "collapsed": true
   },
   "outputs": [],
   "source": [
    "# Make plots appear inline rather than in a separate window\n",
    "# no-import-all prevents importing * from numpy and matplotlib\n",
    "%pylab inline --no-import-all\n",
    "\n",
    "# Import some useful libraries\n",
    "import scipy\n",
    "import numpy\n",
    "import pandas\n",
    "import seaborn # Importing seaborn automatically makes our plots look better\n",
    "import matplotlib.pyplot as pyplt"
   ]
  },
  {
   "cell_type": "code",
   "execution_count": null,
   "metadata": {
    "collapsed": true
   },
   "outputs": [],
   "source": [
    "df = pandas.read_csv(\"candy_choices.csv\")\n",
    "df.count()"
   ]
  },
  {
   "cell_type": "code",
   "execution_count": null,
   "metadata": {
    "collapsed": true
   },
   "outputs": [],
   "source": [
    "# Each event will contain a tuple (selection index, selection, time since previous selection)\n",
    "event_list = [] \n",
    "\n",
    "i = 0\n",
    "time_since_last = {} \n",
    "\n",
    "for item in df[\"candy\"].values:\n",
    "    if item in time_since_last:\n",
    "        event_list.append((i, item, time_since_last[item]))\n",
    "    \n",
    "    for e in time_since_last.keys():\n",
    "        time_since_last[e]+=1\n",
    "            \n",
    "    time_since_last[item] = 0\n",
    "    i += 1"
   ]
  },
  {
   "cell_type": "code",
   "execution_count": null,
   "metadata": {
    "collapsed": true
   },
   "outputs": [],
   "source": [
    "event_list[:10]"
   ]
  }
 ],
 "metadata": {
  "kernelspec": {
   "display_name": "Python 2",
   "language": "python",
   "name": "python2"
  },
  "language_info": {
   "codemirror_mode": {
    "name": "ipython",
    "version": 2
   },
   "file_extension": ".py",
   "mimetype": "text/x-python",
   "name": "python",
   "nbconvert_exporter": "python",
   "pygments_lexer": "ipython2",
   "version": "2.7.11"
  }
 },
 "nbformat": 4,
 "nbformat_minor": 0
}
