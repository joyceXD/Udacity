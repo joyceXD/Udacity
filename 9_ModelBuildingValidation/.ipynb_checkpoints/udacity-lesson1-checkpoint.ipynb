{
 "cells": [
  {
   "cell_type": "markdown",
   "metadata": {},
   "source": [
    "### Getting familiar with iPython notebook"
   ]
  },
  {
   "cell_type": "code",
   "execution_count": 1,
   "metadata": {
    "collapsed": false
   },
   "outputs": [
    {
     "name": "stdout",
     "output_type": "stream",
     "text": [
      "hello world\n"
     ]
    }
   ],
   "source": [
    "print(\"hello world\")"
   ]
  },
  {
   "cell_type": "code",
   "execution_count": 2,
   "metadata": {
    "collapsed": false
   },
   "outputs": [],
   "source": [
    "########################################\n",
    "#                   1                  #\n",
    "########################################\n",
    "\n",
    "# Load the boston dataset included with sklearn\n",
    "\n",
    "##### Start solution code #####\n",
    "from sklearn import datasets\n",
    "dataset = datasets.load_boston()\n",
    "##### End solution code #####"
   ]
  },
  {
   "cell_type": "code",
   "execution_count": 3,
   "metadata": {
    "collapsed": false
   },
   "outputs": [
    {
     "name": "stdout",
     "output_type": "stream",
     "text": [
      "Boston House Prices dataset\n",
      "\n",
      "Notes\n",
      "------\n",
      "Data Set Characteristics:  \n",
      "\n",
      "    :Number of Instances: 506 \n",
      "\n",
      "    :Number of Attributes: 13 numeric/categorical predictive\n",
      "    \n",
      "    :Median Value (attribute 14) is usually the target\n",
      "\n",
      "    :Attribute Information (in order):\n",
      "        - CRIM     per capita crime rate by town\n",
      "        - ZN       proportion of residential land zoned for lots over 25,000 sq.ft.\n",
      "        - INDUS    proportion of non-retail business acres per town\n",
      "        - CHAS     Charles River dummy variable (= 1 if tract bounds river; 0 otherwise)\n",
      "        - NOX      nitric oxides concentration (parts per 10 million)\n",
      "        - RM       average number of rooms per dwelling\n",
      "        - AGE      proportion of owner-occupied units built prior to 1940\n",
      "        - DIS      weighted distances to five Boston employment centres\n",
      "        - RAD      index of accessibility to radial highways\n",
      "        - TAX      full-value property-tax rate per $10,000\n",
      "        - PTRATIO  pupil-teacher ratio by town\n",
      "        - B        1000(Bk - 0.63)^2 where Bk is the proportion of blacks by town\n",
      "        - LSTAT    % lower status of the population\n",
      "        - MEDV     Median value of owner-occupied homes in $1000's\n",
      "\n",
      "    :Missing Attribute Values: None\n",
      "\n",
      "    :Creator: Harrison, D. and Rubinfeld, D.L.\n",
      "\n",
      "This is a copy of UCI ML housing dataset.\n",
      "http://archive.ics.uci.edu/ml/datasets/Housing\n",
      "\n",
      "\n",
      "This dataset was taken from the StatLib library which is maintained at Carnegie Mellon University.\n",
      "\n",
      "The Boston house-price data of Harrison, D. and Rubinfeld, D.L. 'Hedonic\n",
      "prices and the demand for clean air', J. Environ. Economics & Management,\n",
      "vol.5, 81-102, 1978.   Used in Belsley, Kuh & Welsch, 'Regression diagnostics\n",
      "...', Wiley, 1980.   N.B. Various transformations are used in the table on\n",
      "pages 244-261 of the latter.\n",
      "\n",
      "The Boston house-price data has been used in many machine learning papers that address regression\n",
      "problems.   \n",
      "     \n",
      "**References**\n",
      "\n",
      "   - Belsley, Kuh & Welsch, 'Regression diagnostics: Identifying Influential Data and Sources of Collinearity', Wiley, 1980. 244-261.\n",
      "   - Quinlan,R. (1993). Combining Instance-Based and Model-Based Learning. In Proceedings on the Tenth International Conference of Machine Learning, 236-243, University of Massachusetts, Amherst. Morgan Kaufmann.\n",
      "   - many more! (see http://archive.ics.uci.edu/ml/datasets/Housing)\n",
      "\n",
      "[  6.32000000e-03   1.80000000e+01   2.31000000e+00   0.00000000e+00\n",
      "   5.38000000e-01   6.57500000e+00   6.52000000e+01   4.09000000e+00\n",
      "   1.00000000e+00   2.96000000e+02   1.53000000e+01   3.96900000e+02\n",
      "   4.98000000e+00]\n"
     ]
    }
   ],
   "source": [
    "########################################\n",
    "#                   2                  #\n",
    "########################################\n",
    "\n",
    "# Run this cell to see what it does.\n",
    "# Then modify the code to print both the description and the data point.\n",
    "\n",
    "dataset.DESCR\n",
    "dataset.data[0]\n",
    "\n",
    "##### Start solution code #####\n",
    "print(dataset.DESCR)\n",
    "print(dataset.data[0])\n",
    "##### end solution code"
   ]
  },
  {
   "cell_type": "markdown",
   "metadata": {},
   "source": [
    "### Loading the data"
   ]
  },
  {
   "cell_type": "code",
   "execution_count": 4,
   "metadata": {
    "collapsed": false
   },
   "outputs": [
    {
     "name": "stdout",
     "output_type": "stream",
     "text": [
      "Populating the interactive namespace from numpy and matplotlib\n"
     ]
    },
    {
     "name": "stderr",
     "output_type": "stream",
     "text": [
      "C:\\Users\\310195644\\AppData\\Local\\Continuum\\Anaconda2\\lib\\site-packages\\matplotlib\\__init__.py:872: UserWarning: axes.color_cycle is deprecated and replaced with axes.prop_cycle; please use the latter.\n",
      "  warnings.warn(self.msg_depr % (key, alt_key))\n"
     ]
    }
   ],
   "source": [
    "# Make plots appear inline rather than in a separate window\n",
    "# no-import-all prevents importing * from numpy and matplotlib\n",
    "%pylab inline --no-import-all\n",
    "\n",
    "# Import some useful libraries\n",
    "import scipy\n",
    "import numpy\n",
    "import pandas\n",
    "import seaborn # Importing seaborn automatically makes our plots look better\n",
    "import matplotlib.pyplot as pyplt"
   ]
  },
  {
   "cell_type": "code",
   "execution_count": 5,
   "metadata": {
    "collapsed": false
   },
   "outputs": [
    {
     "data": {
      "text/plain": [
       "gender         173\n",
       "candy          174\n",
       "flavor          52\n",
       "age            169\n",
       "ethnicity      174\n",
       "shirt color    174\n",
       "dtype: int64"
      ]
     },
     "execution_count": 5,
     "metadata": {},
     "output_type": "execute_result"
    }
   ],
   "source": [
    "df = pandas.read_csv(\"candy_choices.csv\")\n",
    "df.count()"
   ]
  },
  {
   "cell_type": "code",
   "execution_count": 10,
   "metadata": {
    "collapsed": false
   },
   "outputs": [
    {
     "name": "stdout",
     "output_type": "stream",
     "text": [
      "{}\n",
      "{'reeses': 1}\n",
      "{'reeses': 2, 'kitkat': 1}\n",
      "{'reeses': 3, 'kitkat': 2, 'airhead': 1}\n",
      "{'starburst': 1, 'reeses': 4, 'kitkat': 3, 'airhead': 2}\n",
      "{'starburst': 2, 'reeses': 1, 'kitkat': 4, 'airhead': 3}\n",
      "{'starburst': 1, 'reeses': 2, 'kitkat': 5, 'airhead': 4}\n",
      "{'hersheys': 1, 'starburst': 2, 'reeses': 3, 'kitkat': 6, 'airhead': 5}\n",
      "{'hersheys': 2, 'starburst': 3, 'reeses': 4, 'kitkat': 7, 'airhead': 1}\n",
      "{'hersheys': 3, 'starburst': 1, 'reeses': 5, 'kitkat': 8, 'airhead': 2}\n",
      "{'hersheys': 4, 'starburst': 2, 'reeses': 1, 'kitkat': 9, 'airhead': 3}\n",
      "{'hersheys': 5, 'starburst': 3, 'airhead': 4, 'kitkat': 10, 'rolo': 1, 'reeses': 2}\n",
      "{'hersheys': 6, 'starburst': 4, 'airhead': 5, 'kitkat': 1, 'rolo': 2, 'reeses': 3}\n",
      "{'hersheys': 7, 'starburst': 5, 'airhead': 1, 'kitkat': 2, 'rolo': 3, 'reeses': 4}\n",
      "{'hersheys': 8, 'starburst': 6, 'airhead': 2, 'kitkat': 1, 'rolo': 4, 'reeses': 5}\n",
      "{'hersheys': 9, 'starburst': 7, 'airhead': 3, 'kitkat': 1, 'rolo': 5, 'reeses': 6}\n",
      "{'hersheys': 10, 'starburst': 8, 'airhead': 4, 'kitkat': 1, 'rolo': 6, 'reeses': 7}\n",
      "{'hersheys': 11, 'starburst': 9, 'airhead': 5, 'kitkat': 1, 'rolo': 7, 'reeses': 8}\n",
      "{'hersheys': 12, 'starburst': 10, 'airhead': 6, 'kitkat': 2, 'rolo': 1, 'reeses': 9}\n",
      "{'hersheys': 13, 'starburst': 11, 'airhead': 7, 'kitkat': 3, 'rolo': 1, 'reeses': 10}\n",
      "{'hersheys': 14, 'starburst': 12, 'airhead': 1, 'kitkat': 4, 'rolo': 2, 'reeses': 11}\n",
      "{'hersheys': 1, 'starburst': 13, 'airhead': 2, 'kitkat': 5, 'rolo': 3, 'reeses': 12}\n",
      "{'hersheys': 2, 'starburst': 14, 'airhead': 3, 'kitkat': 6, 'rolo': 4, 'reeses': 1}\n",
      "{'hersheys': 3, 'starburst': 15, 'airhead': 4, 'kitkat': 7, 'rolo': 5, 'reeses': 1}\n",
      "{'hersheys': 4, 'starburst': 16, 'airhead': 5, 'kitkat': 1, 'rolo': 6, 'reeses': 2}\n",
      "{'hersheys': 5, 'starburst': 17, 'airhead': 6, 'kitkat': 1, 'rolo': 7, 'reeses': 3}\n",
      "{'hersheys': 6, 'starburst': 18, 'airhead': 1, 'kitkat': 2, 'rolo': 8, 'reeses': 4}\n",
      "{'hersheys': 7, 'starburst': 19, 'airhead': 1, 'kitkat': 3, 'rolo': 9, 'reeses': 5}\n",
      "{'hersheys': 1, 'starburst': 20, 'airhead': 2, 'kitkat': 4, 'rolo': 10, 'reeses': 6}\n",
      "{'hersheys': 1, 'starburst': 21, 'airhead': 3, 'kitkat': 5, 'rolo': 11, 'reeses': 7}\n",
      "{'hersheys': 2, 'starburst': 22, 'airhead': 4, 'kitkat': 6, 'rolo': 12, 'reeses': 1}\n",
      "{'hersheys': 3, 'starburst': 23, 'airhead': 1, 'kitkat': 7, 'rolo': 13, 'reeses': 2}\n",
      "{'hersheys': 1, 'starburst': 24, 'airhead': 2, 'kitkat': 8, 'rolo': 14, 'reeses': 3}\n",
      "{'hersheys': 2, 'starburst': 1, 'airhead': 3, 'kitkat': 9, 'rolo': 15, 'reeses': 4}\n",
      "{'hersheys': 3, 'starburst': 2, 'airhead': 4, 'kitkat': 1, 'rolo': 16, 'reeses': 5}\n",
      "{'hersheys': 4, 'starburst': 3, 'airhead': 5, 'kitkat': 2, 'rolo': 1, 'reeses': 6}\n",
      "{'hersheys': 5, 'starburst': 4, 'airhead': 6, 'kitkat': 3, 'rolo': 1, 'reeses': 7}\n",
      "{'hersheys': 6, 'starburst': 5, 'airhead': 7, 'kitkat': 4, 'rolo': 1, 'reeses': 8}\n",
      "{'hersheys': 7, 'starburst': 6, 'airhead': 1, 'kitkat': 5, 'rolo': 2, 'reeses': 9}\n",
      "{'hersheys': 8, 'starburst': 7, 'airhead': 2, 'kitkat': 6, 'rolo': 3, 'reeses': 1}\n",
      "{'hersheys': 1, 'starburst': 8, 'airhead': 3, 'kitkat': 7, 'rolo': 4, 'reeses': 2}\n",
      "{'hersheys': 1, 'starburst': 9, 'airhead': 4, 'kitkat': 8, 'rolo': 5, 'reeses': 3}\n",
      "{'hersheys': 2, 'starburst': 1, 'airhead': 5, 'kitkat': 9, 'rolo': 6, 'reeses': 4}\n",
      "{'hersheys': 3, 'starburst': 2, 'airhead': 6, 'kitkat': 1, 'rolo': 7, 'reeses': 5}\n",
      "{'hersheys': 4, 'starburst': 1, 'airhead': 7, 'kitkat': 2, 'rolo': 8, 'reeses': 6}\n",
      "{'hersheys': 5, 'starburst': 2, 'airhead': 8, 'kitkat': 3, 'rolo': 9, 'reeses': 1}\n",
      "{'hersheys': 6, 'starburst': 3, 'airhead': 9, 'kitkat': 1, 'rolo': 10, 'reeses': 2}\n",
      "{'hersheys': 7, 'starburst': 1, 'airhead': 10, 'kitkat': 2, 'rolo': 11, 'reeses': 3}\n",
      "{'hersheys': 1, 'starburst': 2, 'airhead': 11, 'kitkat': 3, 'rolo': 12, 'reeses': 4}\n",
      "{'hersheys': 2, 'starburst': 3, 'airhead': 12, 'kitkat': 4, 'rolo': 13, 'reeses': 1}\n",
      "{'hersheys': 3, 'starburst': 4, 'airhead': 13, 'kitkat': 1, 'rolo': 14, 'reeses': 2}\n",
      "{'hersheys': 4, 'starburst': 5, 'airhead': 14, 'kitkat': 1, 'rolo': 15, 'reeses': 3}\n",
      "{'hersheys': 1, 'starburst': 6, 'airhead': 15, 'kitkat': 2, 'rolo': 16, 'reeses': 4}\n",
      "{'hersheys': 2, 'starburst': 1, 'airhead': 16, 'kitkat': 3, 'rolo': 17, 'reeses': 5}\n",
      "{'hersheys': 1, 'starburst': 2, 'airhead': 17, 'kitkat': 4, 'rolo': 18, 'reeses': 6}\n",
      "{'hersheys': 2, 'starburst': 3, 'airhead': 1, 'kitkat': 5, 'rolo': 19, 'reeses': 7}\n",
      "{'hersheys': 3, 'starburst': 4, 'airhead': 1, 'kitkat': 6, 'rolo': 20, 'reeses': 8}\n",
      "{'hersheys': 4, 'starburst': 5, 'airhead': 2, 'kitkat': 1, 'rolo': 21, 'reeses': 9}\n",
      "{'hersheys': 1, 'starburst': 6, 'airhead': 3, 'kitkat': 2, 'rolo': 22, 'reeses': 10}\n",
      "{'hersheys': 1, 'starburst': 7, 'airhead': 4, 'kitkat': 3, 'rolo': 23, 'reeses': 11}\n",
      "{'hersheys': 2, 'starburst': 1, 'airhead': 5, 'kitkat': 4, 'rolo': 24, 'reeses': 12}\n",
      "{'hersheys': 3, 'starburst': 2, 'airhead': 1, 'kitkat': 5, 'rolo': 25, 'reeses': 13}\n",
      "{'hersheys': 4, 'starburst': 3, 'airhead': 2, 'kitkat': 1, 'rolo': 26, 'reeses': 14}\n",
      "{'hersheys': 5, 'starburst': 4, 'airhead': 3, 'kitkat': 2, 'rolo': 27, 'reeses': 1}\n",
      "{'hersheys': 6, 'starburst': 5, 'airhead': 4, 'kitkat': 3, 'rolo': 28, 'reeses': 1}\n",
      "{'hersheys': 7, 'starburst': 6, 'airhead': 5, 'kitkat': 4, 'rolo': 29, 'reeses': 1}\n",
      "{'hersheys': 1, 'starburst': 7, 'airhead': 6, 'kitkat': 5, 'rolo': 30, 'reeses': 2}\n",
      "{'hersheys': 2, 'starburst': 1, 'airhead': 7, 'kitkat': 6, 'rolo': 31, 'reeses': 3}\n",
      "{'hersheys': 3, 'starburst': 2, 'airhead': 8, 'kitkat': 1, 'rolo': 32, 'reeses': 4}\n",
      "{'hersheys': 1, 'starburst': 3, 'airhead': 9, 'kitkat': 2, 'rolo': 33, 'reeses': 5}\n",
      "{'hersheys': 2, 'starburst': 4, 'airhead': 10, 'kitkat': 1, 'rolo': 34, 'reeses': 6}\n",
      "{'hersheys': 3, 'starburst': 5, 'airhead': 11, 'kitkat': 2, 'rolo': 35, 'reeses': 1}\n",
      "{'hersheys': 1, 'starburst': 6, 'airhead': 12, 'kitkat': 3, 'rolo': 36, 'reeses': 2}\n",
      "{'hersheys': 2, 'starburst': 7, 'airhead': 13, 'kitkat': 4, 'rolo': 1, 'reeses': 3}\n",
      "{'hersheys': 3, 'starburst': 8, 'airhead': 14, 'kitkat': 5, 'rolo': 1, 'reeses': 4}\n",
      "{'hersheys': 4, 'starburst': 9, 'airhead': 15, 'kitkat': 6, 'rolo': 1, 'reeses': 5}\n",
      "{'hersheys': 5, 'starburst': 10, 'airhead': 16, 'kitkat': 7, 'rolo': 1, 'reeses': 6}\n",
      "{'hersheys': 1, 'starburst': 11, 'airhead': 17, 'kitkat': 8, 'rolo': 2, 'reeses': 7}\n",
      "{'hersheys': 1, 'starburst': 12, 'airhead': 18, 'kitkat': 9, 'rolo': 3, 'reeses': 8}\n",
      "{'hersheys': 2, 'starburst': 13, 'airhead': 1, 'kitkat': 10, 'rolo': 4, 'reeses': 9}\n",
      "{'hersheys': 3, 'starburst': 14, 'airhead': 1, 'kitkat': 11, 'rolo': 5, 'reeses': 10}\n",
      "{'hersheys': 4, 'starburst': 15, 'airhead': 2, 'kitkat': 12, 'rolo': 6, 'reeses': 1}\n",
      "{'hersheys': 5, 'starburst': 16, 'airhead': 3, 'kitkat': 1, 'rolo': 7, 'reeses': 2}\n",
      "{'hersheys': 6, 'starburst': 17, 'airhead': 4, 'kitkat': 2, 'rolo': 8, 'reeses': 1}\n",
      "{'hersheys': 7, 'starburst': 18, 'airhead': 1, 'kitkat': 3, 'rolo': 9, 'reeses': 2}\n",
      "{'hersheys': 8, 'starburst': 19, 'airhead': 2, 'kitkat': 4, 'rolo': 10, 'reeses': 1}\n",
      "{'hersheys': 1, 'starburst': 20, 'airhead': 3, 'kitkat': 5, 'rolo': 11, 'reeses': 2}\n",
      "{'hersheys': 2, 'starburst': 21, 'airhead': 4, 'kitkat': 6, 'rolo': 12, 'reeses': 1}\n",
      "{'hersheys': 1, 'starburst': 22, 'airhead': 5, 'kitkat': 7, 'rolo': 13, 'reeses': 2}\n",
      "{'hersheys': 2, 'starburst': 23, 'airhead': 6, 'kitkat': 1, 'rolo': 14, 'reeses': 3}\n",
      "{'hersheys': 3, 'starburst': 24, 'airhead': 7, 'kitkat': 1, 'rolo': 15, 'reeses': 4}\n",
      "{'hersheys': 4, 'starburst': 25, 'airhead': 8, 'kitkat': 1, 'rolo': 16, 'reeses': 5}\n",
      "{'hersheys': 5, 'starburst': 26, 'airhead': 9, 'kitkat': 1, 'rolo': 17, 'reeses': 6}\n",
      "{'hersheys': 6, 'starburst': 27, 'airhead': 10, 'kitkat': 1, 'rolo': 18, 'reeses': 7}\n",
      "{'hersheys': 7, 'starburst': 28, 'airhead': 11, 'kitkat': 1, 'rolo': 19, 'reeses': 8}\n",
      "{'hersheys': 8, 'starburst': 29, 'airhead': 12, 'kitkat': 1, 'rolo': 20, 'reeses': 9}\n",
      "{'hersheys': 9, 'starburst': 30, 'airhead': 1, 'kitkat': 2, 'rolo': 21, 'reeses': 10}\n",
      "{'hersheys': 10, 'starburst': 31, 'airhead': 2, 'kitkat': 3, 'rolo': 1, 'reeses': 11}\n",
      "{'hersheys': 11, 'starburst': 32, 'airhead': 3, 'kitkat': 4, 'rolo': 2, 'reeses': 1}\n",
      "{'hersheys': 12, 'starburst': 33, 'airhead': 1, 'kitkat': 5, 'rolo': 3, 'reeses': 2}\n",
      "{'hersheys': 13, 'starburst': 34, 'airhead': 2, 'kitkat': 1, 'rolo': 4, 'reeses': 3}\n",
      "{'hersheys': 1, 'starburst': 35, 'airhead': 3, 'kitkat': 2, 'rolo': 5, 'reeses': 4}\n",
      "{'hersheys': 2, 'starburst': 36, 'airhead': 4, 'kitkat': 1, 'rolo': 6, 'reeses': 5}\n",
      "{'hersheys': 3, 'starburst': 37, 'airhead': 5, 'kitkat': 2, 'rolo': 1, 'reeses': 6}\n",
      "{'hersheys': 4, 'starburst': 38, 'airhead': 6, 'kitkat': 1, 'rolo': 2, 'reeses': 7}\n",
      "{'hersheys': 5, 'starburst': 39, 'airhead': 7, 'kitkat': 2, 'rolo': 1, 'reeses': 8}\n",
      "{'hersheys': 6, 'starburst': 40, 'airhead': 8, 'kitkat': 1, 'rolo': 2, 'reeses': 9}\n",
      "{'hersheys': 7, 'starburst': 41, 'airhead': 9, 'kitkat': 2, 'rolo': 3, 'reeses': 1}\n",
      "{'hersheys': 8, 'starburst': 42, 'airhead': 10, 'kitkat': 3, 'rolo': 4, 'reeses': 1}\n",
      "{'hersheys': 9, 'starburst': 43, 'airhead': 1, 'kitkat': 4, 'rolo': 5, 'reeses': 2}\n",
      "{'hersheys': 1, 'starburst': 44, 'airhead': 2, 'kitkat': 5, 'rolo': 6, 'reeses': 3}\n",
      "{'hersheys': 2, 'starburst': 1, 'airhead': 3, 'kitkat': 6, 'rolo': 7, 'reeses': 4}\n",
      "{'hersheys': 3, 'starburst': 1, 'airhead': 4, 'kitkat': 7, 'rolo': 8, 'reeses': 5}\n",
      "{'hersheys': 1, 'starburst': 2, 'airhead': 5, 'kitkat': 8, 'rolo': 9, 'reeses': 6}\n",
      "{'hersheys': 1, 'starburst': 3, 'airhead': 6, 'kitkat': 9, 'rolo': 10, 'reeses': 7}\n",
      "{'hersheys': 2, 'starburst': 4, 'airhead': 1, 'kitkat': 10, 'rolo': 11, 'reeses': 8}\n",
      "{'hersheys': 3, 'starburst': 5, 'airhead': 1, 'kitkat': 11, 'rolo': 12, 'reeses': 9}\n",
      "{'hersheys': 4, 'starburst': 6, 'airhead': 2, 'kitkat': 1, 'rolo': 13, 'reeses': 10}\n",
      "{'hersheys': 5, 'starburst': 7, 'airhead': 3, 'kitkat': 2, 'rolo': 14, 'reeses': 1}\n",
      "{'hersheys': 6, 'starburst': 8, 'airhead': 4, 'kitkat': 3, 'rolo': 15, 'reeses': 1}\n",
      "{'hersheys': 7, 'starburst': 9, 'airhead': 1, 'kitkat': 4, 'rolo': 16, 'reeses': 2}\n",
      "{'hersheys': 8, 'starburst': 10, 'airhead': 1, 'kitkat': 5, 'rolo': 17, 'reeses': 3}\n",
      "{'hersheys': 9, 'starburst': 11, 'airhead': 2, 'kitkat': 6, 'rolo': 18, 'reeses': 1}\n",
      "{'hersheys': 10, 'starburst': 1, 'airhead': 3, 'kitkat': 7, 'rolo': 19, 'reeses': 2}\n",
      "{'hersheys': 11, 'starburst': 2, 'airhead': 4, 'kitkat': 1, 'rolo': 20, 'reeses': 3}\n",
      "{'hersheys': 12, 'starburst': 3, 'airhead': 5, 'kitkat': 1, 'rolo': 21, 'reeses': 4}\n",
      "{'hersheys': 13, 'starburst': 4, 'airhead': 6, 'kitkat': 1, 'rolo': 22, 'reeses': 5}\n",
      "{'hersheys': 14, 'starburst': 5, 'airhead': 7, 'kitkat': 1, 'rolo': 23, 'reeses': 6}\n",
      "{'hersheys': 15, 'starburst': 6, 'airhead': 8, 'kitkat': 2, 'rolo': 1, 'reeses': 7}\n",
      "{'hersheys': 16, 'starburst': 7, 'airhead': 9, 'kitkat': 1, 'rolo': 2, 'reeses': 8}\n",
      "{'hersheys': 1, 'starburst': 8, 'airhead': 10, 'kitkat': 2, 'rolo': 3, 'reeses': 9}\n",
      "{'hersheys': 2, 'starburst': 9, 'airhead': 11, 'kitkat': 3, 'rolo': 4, 'reeses': 1}\n",
      "{'hersheys': 1, 'starburst': 10, 'airhead': 12, 'kitkat': 4, 'rolo': 5, 'reeses': 2}\n",
      "{'hersheys': 1, 'starburst': 11, 'airhead': 13, 'kitkat': 5, 'rolo': 6, 'reeses': 3}\n",
      "{'hersheys': 1, 'starburst': 12, 'airhead': 14, 'kitkat': 6, 'rolo': 7, 'reeses': 4}\n",
      "{'hersheys': 2, 'starburst': 13, 'airhead': 1, 'kitkat': 7, 'rolo': 8, 'reeses': 5}\n",
      "{'hersheys': 1, 'starburst': 14, 'airhead': 2, 'kitkat': 8, 'rolo': 9, 'reeses': 6}\n",
      "{'hersheys': 2, 'starburst': 15, 'airhead': 3, 'kitkat': 9, 'rolo': 10, 'reeses': 1}\n",
      "{'hersheys': 3, 'starburst': 16, 'airhead': 4, 'kitkat': 1, 'rolo': 11, 'reeses': 2}\n",
      "{'hersheys': 4, 'starburst': 17, 'airhead': 5, 'kitkat': 1, 'rolo': 12, 'reeses': 3}\n",
      "{'hersheys': 5, 'starburst': 18, 'airhead': 6, 'kitkat': 2, 'rolo': 1, 'reeses': 4}\n",
      "{'hersheys': 6, 'starburst': 19, 'airhead': 7, 'kitkat': 3, 'rolo': 1, 'reeses': 5}\n",
      "{'hersheys': 7, 'starburst': 20, 'airhead': 8, 'kitkat': 4, 'rolo': 1, 'reeses': 6}\n",
      "{'hersheys': 8, 'starburst': 21, 'airhead': 9, 'kitkat': 5, 'rolo': 1, 'reeses': 7}\n",
      "{'hersheys': 9, 'starburst': 22, 'airhead': 1, 'kitkat': 6, 'rolo': 2, 'reeses': 8}\n",
      "{'hersheys': 10, 'starburst': 23, 'airhead': 1, 'kitkat': 7, 'rolo': 3, 'reeses': 9}\n",
      "{'hersheys': 1, 'starburst': 24, 'airhead': 2, 'kitkat': 8, 'rolo': 4, 'reeses': 10}\n",
      "{'hersheys': 1, 'starburst': 25, 'airhead': 3, 'kitkat': 9, 'rolo': 5, 'reeses': 11}\n",
      "{'hersheys': 2, 'starburst': 26, 'airhead': 4, 'kitkat': 1, 'rolo': 6, 'reeses': 12}\n",
      "{'hersheys': 1, 'starburst': 27, 'airhead': 5, 'kitkat': 2, 'rolo': 7, 'reeses': 13}\n",
      "{'hersheys': 1, 'starburst': 28, 'airhead': 6, 'kitkat': 3, 'rolo': 8, 'reeses': 14}\n",
      "{'hersheys': 2, 'starburst': 29, 'airhead': 7, 'kitkat': 4, 'rolo': 1, 'reeses': 15}\n",
      "{'hersheys': 3, 'starburst': 30, 'airhead': 8, 'kitkat': 5, 'rolo': 1, 'reeses': 16}\n",
      "{'hersheys': 1, 'starburst': 31, 'airhead': 9, 'kitkat': 6, 'rolo': 2, 'reeses': 17}\n",
      "{'hersheys': 2, 'starburst': 32, 'airhead': 10, 'kitkat': 7, 'rolo': 1, 'reeses': 18}\n",
      "{'hersheys': 3, 'starburst': 1, 'airhead': 11, 'kitkat': 8, 'rolo': 2, 'reeses': 19}\n",
      "{'hersheys': 4, 'starburst': 1, 'airhead': 12, 'kitkat': 9, 'rolo': 3, 'reeses': 20}\n",
      "{'hersheys': 5, 'starburst': 1, 'airhead': 13, 'kitkat': 10, 'rolo': 4, 'reeses': 21}\n",
      "{'hersheys': 6, 'starburst': 2, 'airhead': 14, 'kitkat': 11, 'rolo': 1, 'reeses': 22}\n",
      "{'hersheys': 1, 'starburst': 3, 'airhead': 15, 'kitkat': 12, 'rolo': 2, 'reeses': 23}\n",
      "{'hersheys': 2, 'starburst': 4, 'airhead': 16, 'kitkat': 13, 'rolo': 3, 'reeses': 1}\n",
      "{'hersheys': 1, 'starburst': 5, 'airhead': 17, 'kitkat': 14, 'rolo': 4, 'reeses': 2}\n",
      "{'hersheys': 2, 'starburst': 6, 'airhead': 18, 'kitkat': 15, 'rolo': 1, 'reeses': 3}\n",
      "{'hersheys': 3, 'starburst': 7, 'airhead': 19, 'kitkat': 16, 'rolo': 1, 'reeses': 4}\n",
      "{'hersheys': 4, 'starburst': 8, 'airhead': 20, 'kitkat': 17, 'rolo': 1, 'reeses': 5}\n",
      "{'hersheys': 5, 'starburst': 9, 'airhead': 21, 'kitkat': 18, 'rolo': 2, 'reeses': 1}\n",
      "{'hersheys': 6, 'starburst': 10, 'airhead': 22, 'kitkat': 19, 'rolo': 3, 'reeses': 1}\n",
      "{'hersheys': 7, 'starburst': 11, 'airhead': 23, 'kitkat': 20, 'rolo': 4, 'reeses': 1}\n",
      "{'hersheys': 8, 'starburst': 12, 'airhead': 24, 'kitkat': 21, 'rolo': 5, 'reeses': 1}\n",
      "{'hersheys': 1, 'starburst': 13, 'airhead': 25, 'kitkat': 22, 'rolo': 6, 'reeses': 2}\n",
      "{'hersheys': 2, 'starburst': 14, 'airhead': 26, 'kitkat': 23, 'rolo': 7, 'reeses': 1}\n",
      "{'hersheys': 3, 'starburst': 15, 'airhead': 27, 'kitkat': 24, 'rolo': 8, 'reeses': 1}\n",
      "{'hersheys': 4, 'starburst': 16, 'airhead': 28, 'kitkat': 25, 'rolo': 9, 'reeses': 1}\n",
      "{'hersheys': 5, 'starburst': 17, 'airhead': 29, 'kitkat': 26, 'rolo': 10, 'reeses': 1}\n"
     ]
    }
   ],
   "source": [
    "# Each event will contain a tuple (selection index, selection, time since previous selection)\n",
    "event_list = [] \n",
    "\n",
    "i = 0\n",
    "time_since_last = {} \n",
    "\n",
    "for item in df[\"candy\"].values:\n",
    "    if item in time_since_last:\n",
    "        event_list.append((i, item, time_since_last[item]))\n",
    "    \n",
    "    for e in time_since_last.keys():\n",
    "        time_since_last[e]+=1\n",
    "            \n",
    "    time_since_last[item] = 0\n",
    "    i += 1"
   ]
  },
  {
   "cell_type": "code",
   "execution_count": "",
   "metadata": {
    "collapsed": false
   },
   "outputs": [],
   "source": [
    "event_list[:10]"
   ]
  },
  {
   "cell_type": "markdown",
   "metadata": {},
   "source": [
    "### Plots of interselection times"
   ]
  },
  {
   "cell_type": "code",
   "execution_count": "",
   "metadata": {
    "collapsed": false
   },
   "outputs": [],
   "source": [
    "def plot_interselection_time(events, color, candy_name):\n",
    "    # Pull out the interselection times for the appropriate candy\n",
    "    candy = [] \n",
    "    for (i, choice, time) in events:\n",
    "        if choice == candy_name:\n",
    "            candy.append(time)\n",
    "            \n",
    "    # Plot the interselection times\n",
    "    plt.plot(range(len(candy)), candy, color=color, label=candy_name)\n",
    "    \n",
    "    # Add a legend and label the axes\n",
    "    plt.legend(frameon=True, shadow=True, framealpha=0.7, loc=0, prop={'size':14})\n",
    "    plt.xlabel(\"Selection number\", fontsize=14)\n",
    "    plt.ylabel(\"Interselection time\", fontsize=14)"
   ]
  },
  {
   "cell_type": "code",
   "execution_count": "",
   "metadata": {
    "collapsed": false
   },
   "outputs": [],
   "source": [
    "plot_interselection_time(event_list, \"orange\", \"airhead\")"
   ]
  },
  {
   "cell_type": "code",
   "execution_count": "",
   "metadata": {
    "collapsed": false
   },
   "outputs": [],
   "source": [
    "plot_interselection_time(event_list, \"red\", \"starburst\")\n",
    "plot_interselection_time(event_list, \"orange\", \"airhead\")"
   ]
  },
  {
   "cell_type": "code",
   "execution_count": "",
   "metadata": {
    "collapsed": false
   },
   "outputs": [],
   "source": [
    "########################################\n",
    "#                   3                  #\n",
    "########################################\n",
    "\n",
    "# Modify this function so that a 5 on the x-axis corresponds to\n",
    "# the 5th time any candy was chosen\n",
    "\n",
    "def plot_interselection_time_scaled(events, color, candy_name):\n",
    "    # Pull out the interselection times for the appropriate candy\n",
    "    candy = [] \n",
    "    for (i, choice, time) in events:\n",
    "        if choice == candy_name:\n",
    "            candy.append(time)\n",
    "            \n",
    "    # Plot the interselection times\n",
    "    plt.plot(range(len(candy)), candy, color=color, label=candy_name)\n",
    "    \n",
    "    # Add a legend and label the axes\n",
    "    plt.legend(frameon=True, shadow=True, framealpha=0.7, loc=0, prop={'size':14})\n",
    "    plt.xlabel(\"Selection number\", fontsize=14)\n",
    "    plt.ylabel(\"Interselection time\", fontsize=14)\n",
    "    \n",
    "    \n",
    "##### Start solution code #####\n",
    "def plot_interselection_time_scaled(events, color, candy_name):\n",
    "    # Pull out the interselection times for the appropriate candy\n",
    "    candy = [] \n",
    "    selection_numbers = []\n",
    "    for (i, choice, time) in events:\n",
    "        if choice == candy_name:\n",
    "            candy.append(time)\n",
    "            selection_numbers.append(i)\n",
    "            \n",
    "    # Plot the interselection times\n",
    "    plt.plot(selection_numbers, candy, color=color, label=candy_name)\n",
    "    \n",
    "    # Add a legend and label the axes\n",
    "    plt.legend(frameon=True, shadow=True, framealpha=0.7, loc=0, prop={'size':14})\n",
    "    plt.xlabel(\"Selection number\", fontsize=14)\n",
    "    plt.ylabel(\"Interselection time\", fontsize=14)\n",
    "##### End solution code"
   ]
  },
  {
   "cell_type": "code",
   "execution_count": "",
   "metadata": {
    "collapsed": false
   },
   "outputs": [],
   "source": [
    "plot_interselection_time_scaled(event_list, \"orange\", \"airhead\")"
   ]
  },
  {
   "cell_type": "code",
   "execution_count": "",
   "metadata": {
    "collapsed": false
   },
   "outputs": [],
   "source": [
    "plot_interselection_time_scaled(event_list, \"red\", \"starburst\")\n",
    "plot_interselection_time_scaled(event_list, \"orange\", \"airhead\")"
   ]
  },
  {
   "cell_type": "code",
   "execution_count": "",
   "metadata": {
    "collapsed": false
   },
   "outputs": [],
   "source": [
    "plot_interselection_time_scaled(event_list, \"blue\", \"reeses\")\n",
    "plot_interselection_time_scaled(event_list, \"green\", \"rolo\")\n",
    "plot_interselection_time_scaled(event_list, \"yellow\", \"kitkat\")\n",
    "plot_interselection_time_scaled(event_list, \"purple\", \"hersheys\")\n",
    "plot_interselection_time_scaled(event_list, \"red\", \"starburst\")\n",
    "plot_interselection_time_scaled(event_list, \"orange\", \"airhead\")"
   ]
  },
  {
   "cell_type": "code",
   "execution_count": "",
   "metadata": {
    "collapsed": false
   },
   "outputs": [],
   "source": [
    "plot_interselection_time_scaled(event_list, \"blue\", \"reeses\")\n",
    "plot_interselection_time_scaled(event_list, \"green\", \"rolo\")"
   ]
  },
  {
   "cell_type": "markdown",
   "metadata": {},
   "source": [
    "### Build training points"
   ]
  },
  {
   "cell_type": "code",
   "execution_count": "",
   "metadata": {
    "collapsed": false
   },
   "outputs": [],
   "source": [
    "# Each sharedStateEvent will be a map from all candy types to the time since that candy was selected\n",
    "shared_state_events = [{\"airhead\":0, \"starburst\":0, \"hersheys\":0, \"reeses\":0, \"kitkat\":0, \"rolo\":0}]\n",
    "\n",
    "\n",
    "import copy\n",
    "\n",
    "i = 0\n",
    "time_since_last = {}\n",
    "for item in df[\"candy\"].values:\n",
    "    if not item in time_since_last:\n",
    "        time_since_last[item] = 0\n",
    "    \n",
    "    event_list.append((i, item, time_since_last[item]))\n",
    "    \n",
    "    curr_shared_event = copy.deepcopy(shared_state_events[-1])\n",
    "    curr_shared_event[item] = time_since_last[item]\n",
    "    shared_state_events.append(curr_shared_event)\n",
    "    \n",
    "    time_since_last[item] = 0\n",
    "    \n",
    "    for e in time_since_last.keys():\n",
    "        if e!=item:\n",
    "            time_since_last[e]+=1\n",
    "        \n",
    "    i = i+1"
   ]
  },
  {
   "cell_type": "code",
   "execution_count": "",
   "metadata": {
    "collapsed": false
   },
   "outputs": [],
   "source": [
    "events_frame = pandas.DataFrame(shared_state_events)"
   ]
  },
  {
   "cell_type": "code",
   "execution_count": "",
   "metadata": {
    "collapsed": false
   },
   "outputs": [],
   "source": [
    "events_frame"
   ]
  },
  {
   "cell_type": "code",
   "execution_count": "",
   "metadata": {
    "collapsed": false
   },
   "outputs": [],
   "source": [
    "# Set a random seed so we will get the same results each time\n",
    "import random\n",
    "random.seed(5656)\n",
    "\n",
    "# Randomly select 30 events for our test set\n",
    "test_indices = set(random.sample(range(events_frame.shape[0]), 30))\n",
    "\n",
    "# Split our data into training and test data\n",
    "train_features = []\n",
    "train_labels = []\n",
    "test_features = []\n",
    "test_labels = []\n",
    "\n",
    "i = 0\n",
    "for airhead, hersheys, kitkat, reeses, rolo, starburst in events_frame.values:\n",
    "    if i in test_indices:\n",
    "        # Use starburst as our label, and all others as our features\n",
    "        test_features.append([airhead, hersheys, kitkat, reeses, rolo])\n",
    "        test_labels.append(starburst)\n",
    "    else:\n",
    "        train_features.append([airhead, hersheys, kitkat, reeses, rolo])\n",
    "        train_labels.append(starburst)\n",
    "    \n",
    "    i += 1"
   ]
  },
  {
   "cell_type": "markdown",
   "metadata": {},
   "source": [
    "### Linear regression model with all features"
   ]
  },
  {
   "cell_type": "code",
   "execution_count": "",
   "metadata": {
    "collapsed": false
   },
   "outputs": [],
   "source": [
    "import sklearn\n",
    "from sklearn import linear_model\n",
    "from sklearn.linear_model import LinearRegression\n",
    "model = linear_model.LinearRegression()\n",
    "model.fit(train_features, train_labels)"
   ]
  },
  {
   "cell_type": "code",
   "execution_count": "",
   "metadata": {
    "collapsed": false
   },
   "outputs": [],
   "source": [
    "# See which features had the most influence on our model \n",
    "zip(events_frame.columns, model.coef_)"
   ]
  },
  {
   "cell_type": "code",
   "execution_count": "",
   "metadata": {
    "collapsed": false
   },
   "outputs": [],
   "source": [
    "# Print mean squared error and R^2 on the training set\n",
    "print(numpy.mean((model.predict(train_features) - train_labels) ** 2))\n",
    "print(model.score(train_features, train_labels))"
   ]
  },
  {
   "cell_type": "code",
   "execution_count": "",
   "metadata": {
    "collapsed": false
   },
   "outputs": [],
   "source": [
    "# Plot predicted and true interarrival times on the training set\n",
    "\n",
    "plt.plot(train_labels, color=\"green\", label=\"True value\")\n",
    "plt.plot(model.predict(train_features), label=\"Predicted value\")\n",
    "\n",
    "plt.xlabel(\"Selection number\", fontsize=14)\n",
    "plt.ylabel(\"Interselection time\", fontsize=14)\n",
    "plt.legend(frameon=True, shadow=True, framealpha=0.7, loc=0, prop={\"size\": 14})"
   ]
  },
  {
   "cell_type": "code",
   "execution_count": "",
   "metadata": {
    "collapsed": false
   },
   "outputs": [],
   "source": [
    "# Print mean squared error and R^2 on the test set\n",
    "print(numpy.mean((model.predict(test_features) - test_labels) ** 2))\n",
    "print(model.score(test_features, test_labels))"
   ]
  },
  {
   "cell_type": "code",
   "execution_count": "",
   "metadata": {
    "collapsed": false
   },
   "outputs": [],
   "source": [
    "# Plot predicted and true time since selection on the test set \n",
    "\n",
    "plt.plot(test_labels, color=\"green\", label=\"True value\")\n",
    "plt.plot(model.predict(test_features), label=\"Predicted value\")\n",
    "\n",
    "plt.xlabel(\"Selection number\", fontsize=14)\n",
    "plt.ylabel(\"Time since selection\", fontsize=14)\n",
    "plt.legend(frameon=True, shadow=True, framealpha=0.7, loc=0, prop={\"size\": 14})"
   ]
  },
  {
   "cell_type": "markdown",
   "metadata": {},
   "source": [
    "### Model performance with restricted features"
   ]
  },
  {
   "cell_type": "code",
   "execution_count": "",
   "metadata": {
    "collapsed": false
   },
   "outputs": [],
   "source": [
    "# Restrict the features to just Airhead and Kitkat - the two most influential features\n",
    "\n",
    "train_features_res = [[e[0], e[2]] for e in train_features]\n",
    "train_labels_res = train_labels\n",
    "test_features_res = [[e[0], e[2]] for e in test_features]\n",
    "test_labels_res = test_labels\n",
    "model_res = linear_model.LinearRegression()\n",
    "model_res.fit(train_features_res, train_labels_res)"
   ]
  },
  {
   "cell_type": "code",
   "execution_count": "",
   "metadata": {
    "collapsed": false
   },
   "outputs": [],
   "source": [
    "# Plot predicted and true interarrival times on the training set\n",
    "\n",
    "plt.plot(train_labels_res, color=\"green\", label=\"True interselection time\")\n",
    "plt.plot(model_res.predict(train_features_res), label=\"Predicted interselection time\")\n",
    "\n",
    "plt.xlabel(\"Selection number\", fontsize=14)\n",
    "plt.ylabel(\"Interselection time\", fontsize=14)\n",
    "plt.legend(frameon=True, shadow=True, framealpha=0.7, loc=0, prop={\"size\": 14})"
   ]
  },
  {
   "cell_type": "code",
   "execution_count": "",
   "metadata": {
    "collapsed": false
   },
   "outputs": [],
   "source": [
    "# Print the mean squared error and R^2 of the restricted model on the training set\n",
    "\n",
    "print(numpy.mean((model_res.predict(train_features_res) - train_labels_res) ** 2))\n",
    "print(model_res.score(train_features_res, train_labels_res))"
   ]
  },
  {
   "cell_type": "code",
   "execution_count": "",
   "metadata": {
    "collapsed": false
   },
   "outputs": [],
   "source": [
    "# Plot predicted and true interarrival times on the test set\n",
    "\n",
    "plt.plot(test_labels_res, color=\"green\", label=\"True interselecton time\")\n",
    "plt.plot(model_res.predict(test_features_res), label=\"Predicted interselection time\")\n",
    "\n",
    "plt.xlabel(\"Selection number\", fontsize=14)\n",
    "plt.ylabel(\"Interselection time\", fontsize=14)\n",
    "plt.legend(frameon=True, shadow=True, framealpha=0.7, loc=0, prop={\"size\": 14})"
   ]
  },
  {
   "cell_type": "code",
   "execution_count": "",
   "metadata": {
    "collapsed": false
   },
   "outputs": [],
   "source": [
    "# Print the mean squared error and R^2 of the restricted model on the test set\n",
    "\n",
    "print(numpy.mean((model_res.predict(test_features_res) - test_labels_res) ** 2))\n",
    "print(model_res.score(test_features_res, test_labels_res))"
   ]
  }
 ],
 "metadata": {
  "kernelspec": {
   "display_name": "Python 2",
   "language": "python",
   "name": "python2"
  },
  "language_info": {
   "codemirror_mode": {
    "name": "ipython",
    "version": 2
   },
   "file_extension": ".py",
   "mimetype": "text/x-python",
   "name": "python",
   "nbconvert_exporter": "python",
   "pygments_lexer": "ipython2",
   "version": "2.7.11"
  }
 },
 "nbformat": 4,
 "nbformat_minor": 0
}
