{
 "cells": [
  {
   "cell_type": "markdown",
   "metadata": {},
   "source": [
    "# Project 2: investigate a dataset"
   ]
  },
  {
   "cell_type": "markdown",
   "metadata": {},
   "source": [
    "## 0. Question formulation\n",
    "\n",
    "The question that this analysis is trying to answer is: what factors made people more likely to survive? To be more specific, following three factors and assumptions will be investigated.\n",
    "* **`Sex`**: ladies first, therefore female might be prioritized when getting on lifeboats, and hence having larger chance of surviving.  \n",
    "**Question**: is gender independent of a passenger's survival?\n",
    "* **`Age`**: the hypothesis is that young adults (age between 20 and 39 years old) is more likely to survive, because they have better physical power to survive in the freezing weather.  \n",
    "**Question**: what are the survival rates among different age groups? Is the survival rate of young adults higher than other age groups? *Survival rate* is defined as: number of survived people in the age group / total number of people in that age group.\n",
    "* **`SibSp`**: people having siblings or spouse could help each other. This increases their chance of surviving.  \n",
    "**Question**: what are the survival rates of people having siblings or spouses and those not? Which is higher?\n",
    "\n",
    "## 1. Data import"
   ]
  },
  {
   "cell_type": "code",
   "execution_count": 17,
   "metadata": {
    "collapsed": false
   },
   "outputs": [
    {
     "data": {
      "text/html": [
       "<div>\n",
       "<table border=\"1\" class=\"dataframe\">\n",
       "  <thead>\n",
       "    <tr style=\"text-align: right;\">\n",
       "      <th></th>\n",
       "      <th>PassengerId</th>\n",
       "      <th>Survived</th>\n",
       "      <th>Pclass</th>\n",
       "      <th>Name</th>\n",
       "      <th>Sex</th>\n",
       "      <th>Age</th>\n",
       "      <th>SibSp</th>\n",
       "      <th>Parch</th>\n",
       "      <th>Ticket</th>\n",
       "      <th>Fare</th>\n",
       "      <th>Cabin</th>\n",
       "      <th>Embarked</th>\n",
       "    </tr>\n",
       "  </thead>\n",
       "  <tbody>\n",
       "    <tr>\n",
       "      <th>0</th>\n",
       "      <td>1</td>\n",
       "      <td>0</td>\n",
       "      <td>3</td>\n",
       "      <td>Braund, Mr. Owen Harris</td>\n",
       "      <td>male</td>\n",
       "      <td>22.0</td>\n",
       "      <td>1</td>\n",
       "      <td>0</td>\n",
       "      <td>A/5 21171</td>\n",
       "      <td>7.2500</td>\n",
       "      <td>NaN</td>\n",
       "      <td>S</td>\n",
       "    </tr>\n",
       "    <tr>\n",
       "      <th>1</th>\n",
       "      <td>2</td>\n",
       "      <td>1</td>\n",
       "      <td>1</td>\n",
       "      <td>Cumings, Mrs. John Bradley (Florence Briggs Th...</td>\n",
       "      <td>female</td>\n",
       "      <td>38.0</td>\n",
       "      <td>1</td>\n",
       "      <td>0</td>\n",
       "      <td>PC 17599</td>\n",
       "      <td>71.2833</td>\n",
       "      <td>C85</td>\n",
       "      <td>C</td>\n",
       "    </tr>\n",
       "    <tr>\n",
       "      <th>2</th>\n",
       "      <td>3</td>\n",
       "      <td>1</td>\n",
       "      <td>3</td>\n",
       "      <td>Heikkinen, Miss. Laina</td>\n",
       "      <td>female</td>\n",
       "      <td>26.0</td>\n",
       "      <td>0</td>\n",
       "      <td>0</td>\n",
       "      <td>STON/O2. 3101282</td>\n",
       "      <td>7.9250</td>\n",
       "      <td>NaN</td>\n",
       "      <td>S</td>\n",
       "    </tr>\n",
       "    <tr>\n",
       "      <th>3</th>\n",
       "      <td>4</td>\n",
       "      <td>1</td>\n",
       "      <td>1</td>\n",
       "      <td>Futrelle, Mrs. Jacques Heath (Lily May Peel)</td>\n",
       "      <td>female</td>\n",
       "      <td>35.0</td>\n",
       "      <td>1</td>\n",
       "      <td>0</td>\n",
       "      <td>113803</td>\n",
       "      <td>53.1000</td>\n",
       "      <td>C123</td>\n",
       "      <td>S</td>\n",
       "    </tr>\n",
       "    <tr>\n",
       "      <th>4</th>\n",
       "      <td>5</td>\n",
       "      <td>0</td>\n",
       "      <td>3</td>\n",
       "      <td>Allen, Mr. William Henry</td>\n",
       "      <td>male</td>\n",
       "      <td>35.0</td>\n",
       "      <td>0</td>\n",
       "      <td>0</td>\n",
       "      <td>373450</td>\n",
       "      <td>8.0500</td>\n",
       "      <td>NaN</td>\n",
       "      <td>S</td>\n",
       "    </tr>\n",
       "  </tbody>\n",
       "</table>\n",
       "</div>"
      ],
      "text/plain": [
       "   PassengerId  Survived  Pclass  \\\n",
       "0            1         0       3   \n",
       "1            2         1       1   \n",
       "2            3         1       3   \n",
       "3            4         1       1   \n",
       "4            5         0       3   \n",
       "\n",
       "                                                Name     Sex   Age  SibSp  \\\n",
       "0                            Braund, Mr. Owen Harris    male  22.0      1   \n",
       "1  Cumings, Mrs. John Bradley (Florence Briggs Th...  female  38.0      1   \n",
       "2                             Heikkinen, Miss. Laina  female  26.0      0   \n",
       "3       Futrelle, Mrs. Jacques Heath (Lily May Peel)  female  35.0      1   \n",
       "4                           Allen, Mr. William Henry    male  35.0      0   \n",
       "\n",
       "   Parch            Ticket     Fare Cabin Embarked  \n",
       "0      0         A/5 21171   7.2500   NaN        S  \n",
       "1      0          PC 17599  71.2833   C85        C  \n",
       "2      0  STON/O2. 3101282   7.9250   NaN        S  \n",
       "3      0            113803  53.1000  C123        S  \n",
       "4      0            373450   8.0500   NaN        S  "
      ]
     },
     "execution_count": 17,
     "metadata": {},
     "output_type": "execute_result"
    }
   ],
   "source": [
    "import pandas as pd\n",
    "import numpy as np\n",
    "import csv\n",
    "\n",
    "data_file = \"./titanic_data.csv\"\n",
    "titanic_data = pd.read_csv(data_file)\n",
    "\n",
    "# show first 5 rows of titanic data\n",
    "titanic_data.head(5)"
   ]
  },
  {
   "cell_type": "code",
   "execution_count": 18,
   "metadata": {
    "collapsed": false
   },
   "outputs": [
    {
     "name": "stdout",
     "output_type": "stream",
     "text": [
      "PassengerId      int64\n",
      "Survived         int64\n",
      "Pclass           int64\n",
      "Name            object\n",
      "Sex             object\n",
      "Age            float64\n",
      "SibSp            int64\n",
      "Parch            int64\n",
      "Ticket          object\n",
      "Fare           float64\n",
      "Cabin           object\n",
      "Embarked        object\n",
      "dtype: object\n"
     ]
    }
   ],
   "source": [
    "# look at data types of each column\n",
    "print titanic_data.dtypes"
   ]
  },
  {
   "cell_type": "markdown",
   "metadata": {},
   "source": [
    "## 2. Data cleaning\n",
    "The code section below shows for each column, whether there are missing values or not. From the result it can be seen that columns `'Age'` and `'Cabin'` have a lot of missing values. `'Cabin'` is not in the factors to be analyzed. Therefore rows with missing `'Age'` values will be filtered out."
   ]
  },
  {
   "cell_type": "code",
   "execution_count": 19,
   "metadata": {
    "collapsed": false
   },
   "outputs": [
    {
     "data": {
      "image/png": "[encoded data removed]",
      "text/plain": [
       "<matplotlib.figure.Figure at 0x3d846d8>"
      ]
     },
     "metadata": {},
     "output_type": "display_data"
    }
   ],
   "source": [
    "%matplotlib inline\n",
    "import missingno as msno\n",
    "\n",
    "missing_data_plot = msno.matrix(titanic_data)\n",
    "titanic_data = titanic_data[titanic_data.Age.notnull()] # remove rows with missing age values"
   ]
  },
  {
   "cell_type": "markdown",
   "metadata": {},
   "source": [
    "## 3. Data transformation\n",
    "The data type of column `'Sex'` is categorical with string values. However, when trying to find correlations between this column and the column `'Survived'`, they should be numerical. Therefore, the decision is to convert those categorical string values to integers.\n",
    "* `Sex: 0 for male, 1 for female`"
   ]
  },
  {
   "cell_type": "code",
   "execution_count": 20,
   "metadata": {
    "collapsed": false
   },
   "outputs": [
    {
     "data": {
      "text/html": [
       "<div>\n",
       "<table border=\"1\" class=\"dataframe\">\n",
       "  <thead>\n",
       "    <tr style=\"text-align: right;\">\n",
       "      <th></th>\n",
       "      <th>PassengerId</th>\n",
       "      <th>Survived</th>\n",
       "      <th>Pclass</th>\n",
       "      <th>Name</th>\n",
       "      <th>Sex</th>\n",
       "      <th>Age</th>\n",
       "      <th>SibSp</th>\n",
       "      <th>Parch</th>\n",
       "      <th>Ticket</th>\n",
       "      <th>Fare</th>\n",
       "      <th>Cabin</th>\n",
       "      <th>Embarked</th>\n",
       "    </tr>\n",
       "  </thead>\n",
       "  <tbody>\n",
       "    <tr>\n",
       "      <th>0</th>\n",
       "      <td>1</td>\n",
       "      <td>0</td>\n",
       "      <td>3</td>\n",
       "      <td>Braund, Mr. Owen Harris</td>\n",
       "      <td>0</td>\n",
       "      <td>22.0</td>\n",
       "      <td>1</td>\n",
       "      <td>0</td>\n",
       "      <td>A/5 21171</td>\n",
       "      <td>7.2500</td>\n",
       "      <td>NaN</td>\n",
       "      <td>S</td>\n",
       "    </tr>\n",
       "    <tr>\n",
       "      <th>1</th>\n",
       "      <td>2</td>\n",
       "      <td>1</td>\n",
       "      <td>1</td>\n",
       "      <td>Cumings, Mrs. John Bradley (Florence Briggs Th...</td>\n",
       "      <td>1</td>\n",
       "      <td>38.0</td>\n",
       "      <td>1</td>\n",
       "      <td>0</td>\n",
       "      <td>PC 17599</td>\n",
       "      <td>71.2833</td>\n",
       "      <td>C85</td>\n",
       "      <td>C</td>\n",
       "    </tr>\n",
       "    <tr>\n",
       "      <th>2</th>\n",
       "      <td>3</td>\n",
       "      <td>1</td>\n",
       "      <td>3</td>\n",
       "      <td>Heikkinen, Miss. Laina</td>\n",
       "      <td>1</td>\n",
       "      <td>26.0</td>\n",
       "      <td>0</td>\n",
       "      <td>0</td>\n",
       "      <td>STON/O2. 3101282</td>\n",
       "      <td>7.9250</td>\n",
       "      <td>NaN</td>\n",
       "      <td>S</td>\n",
       "    </tr>\n",
       "    <tr>\n",
       "      <th>3</th>\n",
       "      <td>4</td>\n",
       "      <td>1</td>\n",
       "      <td>1</td>\n",
       "      <td>Futrelle, Mrs. Jacques Heath (Lily May Peel)</td>\n",
       "      <td>1</td>\n",
       "      <td>35.0</td>\n",
       "      <td>1</td>\n",
       "      <td>0</td>\n",
       "      <td>113803</td>\n",
       "      <td>53.1000</td>\n",
       "      <td>C123</td>\n",
       "      <td>S</td>\n",
       "    </tr>\n",
       "    <tr>\n",
       "      <th>4</th>\n",
       "      <td>5</td>\n",
       "      <td>0</td>\n",
       "      <td>3</td>\n",
       "      <td>Allen, Mr. William Henry</td>\n",
       "      <td>0</td>\n",
       "      <td>35.0</td>\n",
       "      <td>0</td>\n",
       "      <td>0</td>\n",
       "      <td>373450</td>\n",
       "      <td>8.0500</td>\n",
       "      <td>NaN</td>\n",
       "      <td>S</td>\n",
       "    </tr>\n",
       "  </tbody>\n",
       "</table>\n",
       "</div>"
      ],
      "text/plain": [
       "   PassengerId  Survived  Pclass  \\\n",
       "0            1         0       3   \n",
       "1            2         1       1   \n",
       "2            3         1       3   \n",
       "3            4         1       1   \n",
       "4            5         0       3   \n",
       "\n",
       "                                                Name  Sex   Age  SibSp  Parch  \\\n",
       "0                            Braund, Mr. Owen Harris    0  22.0      1      0   \n",
       "1  Cumings, Mrs. John Bradley (Florence Briggs Th...    1  38.0      1      0   \n",
       "2                             Heikkinen, Miss. Laina    1  26.0      0      0   \n",
       "3       Futrelle, Mrs. Jacques Heath (Lily May Peel)    1  35.0      1      0   \n",
       "4                           Allen, Mr. William Henry    0  35.0      0      0   \n",
       "\n",
       "             Ticket     Fare Cabin Embarked  \n",
       "0         A/5 21171   7.2500   NaN        S  \n",
       "1          PC 17599  71.2833   C85        C  \n",
       "2  STON/O2. 3101282   7.9250   NaN        S  \n",
       "3            113803  53.1000  C123        S  \n",
       "4            373450   8.0500   NaN        S  "
      ]
     },
     "execution_count": 20,
     "metadata": {},
     "output_type": "execute_result"
    }
   ],
   "source": [
    "def sex_cat_to_num(sex):\n",
    "    num_value = sex\n",
    "    if sex == \"male\":\n",
    "        num_value = 0\n",
    "    elif sex == \"female\":\n",
    "        num_value = 1\n",
    "    return num_value\n",
    "\n",
    "titanic_data['Sex'] = titanic_data['Sex'].apply(sex_cat_to_num)\n",
    "titanic_data.head(5)  # look at first 5 rows to check if the functions is applied successfully or not"
   ]
  },
  {
   "cell_type": "markdown",
   "metadata": {},
   "source": [
    "## 4. Data analysis\n",
    "In this section, we will look at `'Sex'`, `'Age'`, `'SibSp'` to see which of these factors contribute to the survival of Titanic passengers.\n",
    "### 4.1 Sex vs. Survived\n",
    "* H0: Sex and whether the passenger survived (Survived) or not is independent from each other\n",
    "* H1: Sex and Survived are not independent  \n",
    "  \n",
    "First take a look at how gender is distributed across all passengers:"
   ]
  },
  {
   "cell_type": "code",
   "execution_count": 21,
   "metadata": {
    "collapsed": false,
    "scrolled": true
   },
   "outputs": [
    {
     "name": "stdout",
     "output_type": "stream",
     "text": [
      "Sex\n",
      "0    453\n",
      "1    261\n",
      "dtype: int64\n"
     ]
    }
   ],
   "source": [
    "group_by_sex = titanic_data.groupby(by = 'Sex').size()\n",
    "print group_by_sex"
   ]
  },
  {
   "cell_type": "markdown",
   "metadata": {},
   "source": [
    "If Sex and Survived are independent of each other, then the statistics should look like following:\n",
    "<table>\n",
    "    <thead>\n",
    "        <tr>\n",
    "            <th>Sex</th>\n",
    "            <th>Survived</th>\n",
    "            <th>Count</th>\n",
    "        </tr>\n",
    "    </thead>\n",
    "    <tbody>\n",
    "        <tr>\n",
    "            <td>Male</td>\n",
    "            <td>Not survived</td>\n",
    "            <td>276</td>\n",
    "        </tr>\n",
    "        <tr>\n",
    "          <td>Male</td>\n",
    "          <td>Survived</td>\n",
    "          <td>277</td>\n",
    "        </tr>\n",
    "        <tr>\n",
    "          <td>Female</td>\n",
    "          <td>Not survived</td>\n",
    "          <td>130</td>\n",
    "        </tr>\n",
    "        <tr>\n",
    "          <td>Female</td>\n",
    "          <td>Survived</td>\n",
    "          <td>131</td>\n",
    "        </tr>\n",
    "    </tbody>\n",
    "</table>\n",
    "When looking at the data, the actual distribution is the following."
   ]
  },
  {
   "cell_type": "code",
   "execution_count": 22,
   "metadata": {
    "collapsed": false,
    "scrolled": true
   },
   "outputs": [
    {
     "name": "stdout",
     "output_type": "stream",
     "text": [
      "Sex  Survived\n",
      "0    0           360\n",
      "     1            93\n",
      "1    0            64\n",
      "     1           197\n",
      "dtype: int64\n"
     ]
    }
   ],
   "source": [
    "group_by_sex_suv = titanic_data.groupby(by = ['Sex', 'Survived']).size()\n",
    "print group_by_sex_suv"
   ]
  },
  {
   "cell_type": "markdown",
   "metadata": {},
   "source": [
    "It can be seen that there is a big difference than we expected. To see if these two variables are independent or not, a Chi-squared test is performed."
   ]
  },
  {
   "cell_type": "code",
   "execution_count": 7,
   "metadata": {
    "collapsed": false
   },
   "outputs": [
    {
     "data": {
      "text/plain": [
       "Power_divergenceResult(statistic=300.86834733893562, pvalue=6.4540620897174556e-65)"
      ]
     },
     "execution_count": 7,
     "metadata": {},
     "output_type": "execute_result"
    }
   ],
   "source": [
    "from scipy.stats import chisquare\n",
    "chisquare(group_by_sex_suv, axis=None)"
   ]
  },
  {
   "cell_type": "markdown",
   "metadata": {},
   "source": [
    "The resulting p-value is 6.45e-65, which is very close to 0, therefore null hypotheis is rejected. There is indeed correlation between gender and passengers' survival."
   ]
  },
  {
   "cell_type": "markdown",
   "metadata": {},
   "source": [
    "### 4.2 Age vs. Survived\n",
    "Here the question is: how many people in each age group survived? Are young adutls having higher percentage of survival than other age groups? Following age groups are defined:\n",
    "* 0~19: babies and teenagers ('t')\n",
    "* 20~39: young adults ('y')\n",
    "* 40~59: middle aged adults ('m')\n",
    "* 60 and 60+: senior people ('s')"
   ]
  },
  {
   "cell_type": "code",
   "execution_count": 31,
   "metadata": {
    "collapsed": true
   },
   "outputs": [],
   "source": [
    "def get_age_group(age):\n",
    "    group = None\n",
    "    if age >=0 and age <= 19:\n",
    "        group = 't'\n",
    "    elif age >= 20 and age <= 39:\n",
    "        group = 'y'\n",
    "    elif age >= 40 and age <= 59:\n",
    "        group = 'm'\n",
    "    elif age >= 60:\n",
    "        group = 's'\n",
    "    return group\n",
    "\n",
    "titanic_data['AgeGroup'] = titanic_data['Age'].apply(get_age_group)"
   ]
  },
  {
   "cell_type": "markdown",
   "metadata": {},
   "source": [
    "Look at number of people survived and not survived in each age group."
   ]
  },
  {
   "cell_type": "code",
   "execution_count": 38,
   "metadata": {
    "collapsed": false
   },
   "outputs": [
    {
     "name": "stdout",
     "output_type": "stream",
     "text": [
      "  AgeGroup  Survived  Count\n",
      "0        m         0     83\n",
      "1        m         1     54\n",
      "2        s         0     19\n",
      "3        s         1      7\n",
      "4        t         0     85\n",
      "5        t         1     79\n",
      "6        y         0    237\n",
      "7        y         1    150\n"
     ]
    }
   ],
   "source": [
    "group_by_age = titanic_data.groupby(['AgeGroup', 'Survived'], as_index = False).count()\n",
    "group_by_age = group_by_age[['AgeGroup', 'Survived', 'PassengerId']] # select first 3 columns\n",
    "group_by_age.columns = ['AgeGroup', 'Survived', 'Count'] # change column name\n",
    "print group_by_age"
   ]
  },
  {
   "cell_type": "code",
   "execution_count": 37,
   "metadata": {
    "collapsed": false
   },
   "outputs": [
    {
     "data": {
      "image/png": "[encoded data removed]",
      "text/plain": [
       "<matplotlib.figure.Figure at 0xb348358>"
      ]
     },
     "metadata": {},
     "output_type": "display_data"
    }
   ],
   "source": [
    "import numpy as np\n",
    "import matplotlib.pyplot as plt\n",
    "\n",
    "# prepare data for the plot\n",
    "survived = group_by_age[group_by_age['Survived'] == 1]['Count']\n",
    "not_survived = group_by_age[group_by_age['Survived'] == 0]['Count']\n",
    "\n",
    "## set variables\n",
    "fig = plt.figure()\n",
    "ax = fig.add_subplot(111)\n",
    "ind = np.arange(len(survived))  # the x locations for the groups\n",
    "width = 0.35                    # the width of the bars\n",
    "\n",
    "## the bars\n",
    "rects1 = ax.bar(ind, survived, width, color = 'red')\n",
    "rects2 = ax.bar(ind + width, not_survived, width, color = 'black')\n",
    "\n",
    "# axes and labels\n",
    "ax.set_ylim(0, 300)\n",
    "ax.set_ylabel('Number of people')\n",
    "ax.set_title('Survival by age group')\n",
    "xTickMarks = ['Middle-aged adults', 'Seniors', 'Babies & teens', 'Young adults']\n",
    "ax.set_xticks(ind + width)\n",
    "xtickNames = ax.set_xticklabels(xTickMarks)\n",
    "\n",
    "## add a legend\n",
    "ax.legend( (rects1[0], rects2[0]), ('Survived', 'Not survived') )\n",
    "plt.show()"
   ]
  },
  {
   "cell_type": "code",
   "execution_count": 50,
   "metadata": {
    "collapsed": false
   },
   "outputs": [
    {
     "name": "stdout",
     "output_type": "stream",
     "text": [
      "1    0.394161\n",
      "3    0.269231\n",
      "5    0.481707\n",
      "7    0.387597\n",
      "dtype: float64\n"
     ]
    }
   ],
   "source": [
    "age_group_total = pd.Series(survived.values + not_survived.values, index = survived.index)\n",
    "survival_rate = survived.values / age_group_total\n",
    "print survival_rate"
   ]
  },
  {
   "cell_type": "markdown",
   "metadata": {},
   "source": [
    "From the above result it can be seen that infants and teenagers group has the highest survival rate (48.2%), followed by the middle-aged group (39.4%). The previous assumption that young adults group has the highest survival rate is not true."
   ]
  },
  {
   "cell_type": "markdown",
   "metadata": {},
   "source": [
    "## 4.3 Siblings / spouse vs. Survived\n",
    "Here the question is: what are the survival rates of people having siblings or spouses and those not? Which is higher? To answer this question, first we need to transform the data from integers to binary values, and again use `groupby()` function."
   ]
  },
  {
   "cell_type": "code",
   "execution_count": 53,
   "metadata": {
    "collapsed": false
   },
   "outputs": [
    {
     "name": "stdout",
     "output_type": "stream",
     "text": [
      "   BinarySibSp  Survived  Count\n",
      "0            0         0    296\n",
      "1            0         1    175\n",
      "2            1         0    128\n",
      "3            1         1    115\n"
     ]
    }
   ],
   "source": [
    "def sibsp_int_to_binary(value):\n",
    "    new_value = value\n",
    "    if value > 0:\n",
    "        new_value = 1\n",
    "    else: \n",
    "        new_value = 0\n",
    "    return new_value\n",
    "\n",
    "titanic_data['BinarySibSp'] = titanic_data['SibSp'].apply(sibsp_int_to_binary)\n",
    "group_by_sibsp = titanic_data.groupby(['BinarySibSp', 'Survived'], as_index = False).count()\n",
    "group_by_sibsp = group_by_sibsp[['BinarySibSp', 'Survived', 'PassengerId']] # select first 3 columns\n",
    "group_by_sibsp.columns = ['BinarySibSp', 'Survived', 'Count'] # change column name\n",
    "print group_by_sibsp"
   ]
  },
  {
   "cell_type": "code",
   "execution_count": 58,
   "metadata": {
    "collapsed": false
   },
   "outputs": [
    {
     "name": "stdout",
     "output_type": "stream",
     "text": [
      "The survival rate of people having siblings/spouse is 0.473251028807\n",
      "The survival rate of people not having siblings/spouse is 0.371549893843\n"
     ]
    }
   ],
   "source": [
    "no_sibsp_survive_rate = float(group_by_sibsp['Count'][1]) / (group_by_sibsp['Count'][0] + group_by_sibsp['Count'][1])\n",
    "sibsp_survive_rate = float(group_by_sibsp['Count'][3]) / (group_by_sibsp['Count'][2] + group_by_sibsp['Count'][3])\n",
    "print \"The survival rate of people having siblings/spouse is {}\".format(sibsp_survive_rate)\n",
    "print \"The survival rate of people not having siblings/spouse is {}\".format(no_sibsp_survive_rate)"
   ]
  },
  {
   "cell_type": "markdown",
   "metadata": {},
   "source": [
    "From the above result it can be seen that the group of people having siblings / spouses has a higher survival rate than those not."
   ]
  },
  {
   "cell_type": "code",
   "execution_count": null,
   "metadata": {
    "collapsed": true
   },
   "outputs": [],
   "source": []
  }
 ],
 "metadata": {
  "kernelspec": {
   "display_name": "Python 2",
   "language": "python",
   "name": "python2"
  },
  "language_info": {
   "codemirror_mode": {
    "name": "ipython",
    "version": 2
   },
   "file_extension": ".py",
   "mimetype": "text/x-python",
   "name": "python",
   "nbconvert_exporter": "python",
   "pygments_lexer": "ipython2",
   "version": "2.7.11"
  }
 },
 "nbformat": 4,
 "nbformat_minor": 0
}
